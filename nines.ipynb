{
  "nbformat": 4,
  "nbformat_minor": 0,
  "metadata": {
    "colab": {
      "provenance": [],
      "authorship_tag": "ABX9TyMQLouJmpa79xtk/KA7d8Ie",
      "include_colab_link": true
    },
    "kernelspec": {
      "name": "python3",
      "display_name": "Python 3"
    },
    "language_info": {
      "name": "python"
    }
  },
  "cells": [
    {
      "cell_type": "markdown",
      "metadata": {
        "id": "view-in-github",
        "colab_type": "text"
      },
      "source": [
        "<a href=\"https://colab.research.google.com/github/andrewboes/ML/blob/main/nines.ipynb\" target=\"_parent\"><img src=\"https://colab.research.google.com/assets/colab-badge.svg\" alt=\"Open In Colab\"/></a>"
      ]
    },
    {
      "cell_type": "code",
      "source": [
        "def addEmUp(product):\n",
        "  numberArray = list(str(product))\n",
        "  testSum = 0\n",
        "  sumString = []\n",
        "  for c in numberArray:\n",
        "    sumString.append(c)\n",
        "    testSum += int(c)\n",
        "  print(\"+\".join(str(x) for x in sumString) + \"=\"+str(testSum))\n",
        "  if len(list(str(testSum))) > 1:\n",
        "    return addEmUp(testSum)\n",
        "  return testSum\n",
        "\n",
        "  #Andrew made a change"
      ],
      "metadata": {
        "id": "LhqbBay3OqRN"
      },
      "execution_count": 2,
      "outputs": []
    },
    {
      "cell_type": "code",
      "execution_count": 3,
      "metadata": {
        "colab": {
          "base_uri": "https://localhost:8080/"
        },
        "id": "MXWOxyxHLgZf",
        "outputId": "13786389-1337-46ee-a408-5cfaff855bf0"
      },
      "outputs": [
        {
          "output_type": "stream",
          "name": "stdout",
          "text": [
            "--------current: 0----------\n",
            "0=0\n",
            "0: 0\n"
          ]
        }
      ],
      "source": [
        "nine = 9\n",
        "numberOfLoops = 1\n",
        "for multiplier in range(numberOfLoops):\n",
        "  product = nine*multiplier\n",
        "  print(\"--------current: {}----------\".format(product))\n",
        "  mySum = addEmUp(product)\n",
        "  if mySum != 9:\n",
        "    print(\"{}: {}\".format(product, mySum))\n"
      ]
    }
  ]
}